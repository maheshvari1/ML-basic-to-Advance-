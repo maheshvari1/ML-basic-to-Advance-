{
 "cells": [
  {
   "cell_type": "code",
   "execution_count": 2,
   "id": "e0319798",
   "metadata": {},
   "outputs": [
    {
     "name": "stdout",
     "output_type": "stream",
     "text": [
      "Defaulting to user installation because normal site-packages is not writeable\n",
      "Collecting mlxtend\n",
      "  Obtaining dependency information for mlxtend from https://files.pythonhosted.org/packages/1c/07/512f6a780239ad6ce06ce2aa7b4067583f5ddcfc7703a964a082c706a070/mlxtend-0.23.1-py3-none-any.whl.metadata\n",
      "  Downloading mlxtend-0.23.1-py3-none-any.whl.metadata (7.3 kB)\n",
      "Requirement already satisfied: scipy>=1.2.1 in c:\\programdata\\anaconda3\\lib\\site-packages (from mlxtend) (1.11.1)\n",
      "Requirement already satisfied: numpy>=1.16.2 in c:\\programdata\\anaconda3\\lib\\site-packages (from mlxtend) (1.24.3)\n",
      "Requirement already satisfied: pandas>=0.24.2 in c:\\programdata\\anaconda3\\lib\\site-packages (from mlxtend) (2.0.3)\n",
      "Requirement already satisfied: scikit-learn>=1.0.2 in c:\\programdata\\anaconda3\\lib\\site-packages (from mlxtend) (1.3.0)\n",
      "Requirement already satisfied: matplotlib>=3.0.0 in c:\\programdata\\anaconda3\\lib\\site-packages (from mlxtend) (3.7.2)\n",
      "Requirement already satisfied: joblib>=0.13.2 in c:\\programdata\\anaconda3\\lib\\site-packages (from mlxtend) (1.2.0)\n",
      "Requirement already satisfied: contourpy>=1.0.1 in c:\\programdata\\anaconda3\\lib\\site-packages (from matplotlib>=3.0.0->mlxtend) (1.0.5)\n",
      "Requirement already satisfied: cycler>=0.10 in c:\\programdata\\anaconda3\\lib\\site-packages (from matplotlib>=3.0.0->mlxtend) (0.11.0)\n",
      "Requirement already satisfied: fonttools>=4.22.0 in c:\\programdata\\anaconda3\\lib\\site-packages (from matplotlib>=3.0.0->mlxtend) (4.25.0)\n",
      "Requirement already satisfied: kiwisolver>=1.0.1 in c:\\programdata\\anaconda3\\lib\\site-packages (from matplotlib>=3.0.0->mlxtend) (1.4.4)\n",
      "Requirement already satisfied: packaging>=20.0 in c:\\programdata\\anaconda3\\lib\\site-packages (from matplotlib>=3.0.0->mlxtend) (23.1)\n",
      "Requirement already satisfied: pillow>=6.2.0 in c:\\programdata\\anaconda3\\lib\\site-packages (from matplotlib>=3.0.0->mlxtend) (9.4.0)\n",
      "Requirement already satisfied: pyparsing<3.1,>=2.3.1 in c:\\programdata\\anaconda3\\lib\\site-packages (from matplotlib>=3.0.0->mlxtend) (3.0.9)\n",
      "Requirement already satisfied: python-dateutil>=2.7 in c:\\programdata\\anaconda3\\lib\\site-packages (from matplotlib>=3.0.0->mlxtend) (2.8.2)\n",
      "Requirement already satisfied: pytz>=2020.1 in c:\\programdata\\anaconda3\\lib\\site-packages (from pandas>=0.24.2->mlxtend) (2023.3.post1)\n",
      "Requirement already satisfied: tzdata>=2022.1 in c:\\programdata\\anaconda3\\lib\\site-packages (from pandas>=0.24.2->mlxtend) (2023.3)\n",
      "Requirement already satisfied: threadpoolctl>=2.0.0 in c:\\programdata\\anaconda3\\lib\\site-packages (from scikit-learn>=1.0.2->mlxtend) (2.2.0)\n",
      "Requirement already satisfied: six>=1.5 in c:\\programdata\\anaconda3\\lib\\site-packages (from python-dateutil>=2.7->matplotlib>=3.0.0->mlxtend) (1.16.0)\n",
      "Downloading mlxtend-0.23.1-py3-none-any.whl (1.4 MB)\n",
      "   ---------------------------------------- 0.0/1.4 MB ? eta -:--:--\n",
      "    --------------------------------------- 0.0/1.4 MB 660.6 kB/s eta 0:00:03\n",
      "    --------------------------------------- 0.0/1.4 MB 660.6 kB/s eta 0:00:03\n",
      "   - -------------------------------------- 0.1/1.4 MB 558.5 kB/s eta 0:00:03\n",
      "   -- ------------------------------------- 0.1/1.4 MB 653.6 kB/s eta 0:00:03\n",
      "   -- ------------------------------------- 0.1/1.4 MB 653.6 kB/s eta 0:00:03\n",
      "   ---- ----------------------------------- 0.2/1.4 MB 654.6 kB/s eta 0:00:02\n",
      "   ----- ---------------------------------- 0.2/1.4 MB 731.4 kB/s eta 0:00:02\n",
      "   ----- ---------------------------------- 0.2/1.4 MB 731.4 kB/s eta 0:00:02\n",
      "   ----- ---------------------------------- 0.2/1.4 MB 731.4 kB/s eta 0:00:02\n",
      "   ------- -------------------------------- 0.3/1.4 MB 628.5 kB/s eta 0:00:02\n",
      "   -------- ------------------------------- 0.3/1.4 MB 679.4 kB/s eta 0:00:02\n",
      "   -------- ------------------------------- 0.3/1.4 MB 679.4 kB/s eta 0:00:02\n",
      "   --------- ------------------------------ 0.3/1.4 MB 635.0 kB/s eta 0:00:02\n",
      "   ---------- ----------------------------- 0.4/1.4 MB 636.6 kB/s eta 0:00:02\n",
      "   ----------- ---------------------------- 0.4/1.4 MB 655.1 kB/s eta 0:00:02\n",
      "   ----------- ---------------------------- 0.4/1.4 MB 671.7 kB/s eta 0:00:02\n",
      "   ------------- -------------------------- 0.5/1.4 MB 701.0 kB/s eta 0:00:02\n",
      "   -------------- ------------------------- 0.5/1.4 MB 726.3 kB/s eta 0:00:02\n",
      "   -------------- ------------------------- 0.5/1.4 MB 710.0 kB/s eta 0:00:02\n",
      "   ---------------- ----------------------- 0.6/1.4 MB 732.3 kB/s eta 0:00:02\n",
      "   ---------------- ----------------------- 0.6/1.4 MB 732.3 kB/s eta 0:00:02\n",
      "   ----------------- ---------------------- 0.6/1.4 MB 714.4 kB/s eta 0:00:02\n",
      "   ----------------- ---------------------- 0.6/1.4 MB 712.5 kB/s eta 0:00:02\n",
      "   ------------------- -------------------- 0.7/1.4 MB 708.0 kB/s eta 0:00:02\n",
      "   ------------------- -------------------- 0.7/1.4 MB 708.0 kB/s eta 0:00:02\n",
      "   ------------------- -------------------- 0.7/1.4 MB 708.0 kB/s eta 0:00:02\n",
      "   -------------------- ------------------- 0.7/1.4 MB 674.3 kB/s eta 0:00:02\n",
      "   -------------------- ------------------- 0.7/1.4 MB 674.3 kB/s eta 0:00:02\n",
      "   -------------------- ------------------- 0.7/1.4 MB 646.2 kB/s eta 0:00:02\n",
      "   --------------------- ------------------ 0.8/1.4 MB 638.4 kB/s eta 0:00:02\n",
      "   ---------------------- ----------------- 0.8/1.4 MB 646.7 kB/s eta 0:00:01\n",
      "   ---------------------- ----------------- 0.8/1.4 MB 639.5 kB/s eta 0:00:01\n",
      "   ----------------------- ---------------- 0.8/1.4 MB 624.6 kB/s eta 0:00:01\n",
      "   ----------------------- ---------------- 0.9/1.4 MB 624.9 kB/s eta 0:00:01\n",
      "   ------------------------ --------------- 0.9/1.4 MB 618.4 kB/s eta 0:00:01\n",
      "   ------------------------- -------------- 0.9/1.4 MB 626.6 kB/s eta 0:00:01\n",
      "   ------------------------- -------------- 0.9/1.4 MB 626.6 kB/s eta 0:00:01\n",
      "   ------------------------- -------------- 0.9/1.4 MB 608.6 kB/s eta 0:00:01\n",
      "   -------------------------- ------------- 1.0/1.4 MB 602.7 kB/s eta 0:00:01\n",
      "   --------------------------- ------------ 1.0/1.4 MB 610.6 kB/s eta 0:00:01\n",
      "   --------------------------- ------------ 1.0/1.4 MB 610.6 kB/s eta 0:00:01\n",
      "   ---------------------------- ----------- 1.0/1.4 MB 595.3 kB/s eta 0:00:01\n",
      "   ----------------------------- ---------- 1.1/1.4 MB 607.6 kB/s eta 0:00:01\n",
      "   ------------------------------ --------- 1.1/1.4 MB 615.2 kB/s eta 0:00:01\n",
      "   ------------------------------ --------- 1.1/1.4 MB 615.4 kB/s eta 0:00:01\n",
      "   ------------------------------- -------- 1.1/1.4 MB 610.8 kB/s eta 0:00:01\n",
      "   -------------------------------- ------- 1.2/1.4 MB 607.1 kB/s eta 0:00:01\n",
      "   -------------------------------- ------- 1.2/1.4 MB 607.6 kB/s eta 0:00:01\n",
      "   --------------------------------- ------ 1.2/1.4 MB 613.7 kB/s eta 0:00:01\n",
      "   ---------------------------------- ----- 1.2/1.4 MB 614.6 kB/s eta 0:00:01\n",
      "   ----------------------------------- ---- 1.3/1.4 MB 620.3 kB/s eta 0:00:01\n",
      "   ----------------------------------- ---- 1.3/1.4 MB 611.5 kB/s eta 0:00:01\n",
      "   ------------------------------------ --- 1.3/1.4 MB 621.2 kB/s eta 0:00:01\n",
      "   ------------------------------------ --- 1.3/1.4 MB 603.7 kB/s eta 0:00:01\n",
      "   ------------------------------------- -- 1.4/1.4 MB 604.5 kB/s eta 0:00:01\n",
      "   ------------------------------------- -- 1.4/1.4 MB 604.5 kB/s eta 0:00:01\n",
      "   ------------------------------------- -- 1.4/1.4 MB 604.5 kB/s eta 0:00:01\n",
      "   -------------------------------------- - 1.4/1.4 MB 585.4 kB/s eta 0:00:01\n",
      "   -------------------------------------- - 1.4/1.4 MB 586.4 kB/s eta 0:00:01\n",
      "   ---------------------------------------  1.4/1.4 MB 587.7 kB/s eta 0:00:01\n",
      "   ---------------------------------------- 1.4/1.4 MB 583.0 kB/s eta 0:00:00\n",
      "Installing collected packages: mlxtend\n",
      "Successfully installed mlxtend-0.23.1\n",
      "Note: you may need to restart the kernel to use updated packages.\n"
     ]
    }
   ],
   "source": [
    "pip install mlxtend"
   ]
  },
  {
   "cell_type": "code",
   "execution_count": 4,
   "id": "f8e37224",
   "metadata": {},
   "outputs": [],
   "source": [
    "import pandas as pd\n",
    "import numpy as np"
   ]
  },
  {
   "cell_type": "code",
   "execution_count": 5,
   "id": "0f4264cb",
   "metadata": {},
   "outputs": [],
   "source": [
    "df=pd.read_csv('placement.csv')"
   ]
  },
  {
   "cell_type": "code",
   "execution_count": 6,
   "id": "5ce003ff",
   "metadata": {},
   "outputs": [
    {
     "data": {
      "text/html": [
       "<div>\n",
       "<style scoped>\n",
       "    .dataframe tbody tr th:only-of-type {\n",
       "        vertical-align: middle;\n",
       "    }\n",
       "\n",
       "    .dataframe tbody tr th {\n",
       "        vertical-align: top;\n",
       "    }\n",
       "\n",
       "    .dataframe thead th {\n",
       "        text-align: right;\n",
       "    }\n",
       "</style>\n",
       "<table border=\"1\" class=\"dataframe\">\n",
       "  <thead>\n",
       "    <tr style=\"text-align: right;\">\n",
       "      <th></th>\n",
       "      <th>Unnamed: 0</th>\n",
       "      <th>cgpa</th>\n",
       "      <th>iq</th>\n",
       "      <th>placement</th>\n",
       "    </tr>\n",
       "  </thead>\n",
       "  <tbody>\n",
       "    <tr>\n",
       "      <th>0</th>\n",
       "      <td>0</td>\n",
       "      <td>6.8</td>\n",
       "      <td>123.0</td>\n",
       "      <td>1</td>\n",
       "    </tr>\n",
       "    <tr>\n",
       "      <th>1</th>\n",
       "      <td>1</td>\n",
       "      <td>5.9</td>\n",
       "      <td>106.0</td>\n",
       "      <td>0</td>\n",
       "    </tr>\n",
       "    <tr>\n",
       "      <th>2</th>\n",
       "      <td>2</td>\n",
       "      <td>5.3</td>\n",
       "      <td>121.0</td>\n",
       "      <td>0</td>\n",
       "    </tr>\n",
       "    <tr>\n",
       "      <th>3</th>\n",
       "      <td>3</td>\n",
       "      <td>7.4</td>\n",
       "      <td>132.0</td>\n",
       "      <td>1</td>\n",
       "    </tr>\n",
       "    <tr>\n",
       "      <th>4</th>\n",
       "      <td>4</td>\n",
       "      <td>5.8</td>\n",
       "      <td>142.0</td>\n",
       "      <td>0</td>\n",
       "    </tr>\n",
       "  </tbody>\n",
       "</table>\n",
       "</div>"
      ],
      "text/plain": [
       "   Unnamed: 0  cgpa     iq  placement\n",
       "0           0   6.8  123.0          1\n",
       "1           1   5.9  106.0          0\n",
       "2           2   5.3  121.0          0\n",
       "3           3   7.4  132.0          1\n",
       "4           4   5.8  142.0          0"
      ]
     },
     "execution_count": 6,
     "metadata": {},
     "output_type": "execute_result"
    }
   ],
   "source": [
    "df.head()"
   ]
  },
  {
   "cell_type": "code",
   "execution_count": 7,
   "id": "b4ba1103",
   "metadata": {},
   "outputs": [
    {
     "name": "stdout",
     "output_type": "stream",
     "text": [
      "<class 'pandas.core.frame.DataFrame'>\n",
      "RangeIndex: 100 entries, 0 to 99\n",
      "Data columns (total 4 columns):\n",
      " #   Column      Non-Null Count  Dtype  \n",
      "---  ------      --------------  -----  \n",
      " 0   Unnamed: 0  100 non-null    int64  \n",
      " 1   cgpa        100 non-null    float64\n",
      " 2   iq          100 non-null    float64\n",
      " 3   placement   100 non-null    int64  \n",
      "dtypes: float64(2), int64(2)\n",
      "memory usage: 3.3 KB\n"
     ]
    }
   ],
   "source": [
    "df.info()"
   ]
  },
  {
   "cell_type": "code",
   "execution_count": 8,
   "id": "d1e687ea",
   "metadata": {},
   "outputs": [
    {
     "data": {
      "text/plain": [
       "Unnamed: 0    0\n",
       "cgpa          0\n",
       "iq            0\n",
       "placement     0\n",
       "dtype: int64"
      ]
     },
     "execution_count": 8,
     "metadata": {},
     "output_type": "execute_result"
    }
   ],
   "source": [
    "df.isnull().sum()"
   ]
  },
  {
   "cell_type": "code",
   "execution_count": 9,
   "id": "5ca79ebd",
   "metadata": {
    "scrolled": true
   },
   "outputs": [
    {
     "data": {
      "text/plain": [
       "(100, 4)"
      ]
     },
     "execution_count": 9,
     "metadata": {},
     "output_type": "execute_result"
    }
   ],
   "source": [
    "df.shape"
   ]
  },
  {
   "cell_type": "raw",
   "id": "a1d644f6",
   "metadata": {},
   "source": [
    "Steps:\n",
    "    1:preprocess(find the missing values)+EDA(plot the graphs and find the hidden pattern)+Feature selection(find the relevent col and combine)\n",
    "    2:Extract input and output cols\n",
    "    3:scale the values\n",
    "    4:train test split\n",
    "    5:Evaluate the model/model selection\n",
    "    6:Deploy the model    "
   ]
  },
  {
   "cell_type": "code",
   "execution_count": 10,
   "id": "14b1675d",
   "metadata": {},
   "outputs": [],
   "source": [
    "#preprocess\n",
    "df=df.iloc[:,1:]"
   ]
  },
  {
   "cell_type": "code",
   "execution_count": 11,
   "id": "43e4e705",
   "metadata": {},
   "outputs": [
    {
     "data": {
      "text/html": [
       "<div>\n",
       "<style scoped>\n",
       "    .dataframe tbody tr th:only-of-type {\n",
       "        vertical-align: middle;\n",
       "    }\n",
       "\n",
       "    .dataframe tbody tr th {\n",
       "        vertical-align: top;\n",
       "    }\n",
       "\n",
       "    .dataframe thead th {\n",
       "        text-align: right;\n",
       "    }\n",
       "</style>\n",
       "<table border=\"1\" class=\"dataframe\">\n",
       "  <thead>\n",
       "    <tr style=\"text-align: right;\">\n",
       "      <th></th>\n",
       "      <th>cgpa</th>\n",
       "      <th>iq</th>\n",
       "      <th>placement</th>\n",
       "    </tr>\n",
       "  </thead>\n",
       "  <tbody>\n",
       "    <tr>\n",
       "      <th>0</th>\n",
       "      <td>6.8</td>\n",
       "      <td>123.0</td>\n",
       "      <td>1</td>\n",
       "    </tr>\n",
       "    <tr>\n",
       "      <th>1</th>\n",
       "      <td>5.9</td>\n",
       "      <td>106.0</td>\n",
       "      <td>0</td>\n",
       "    </tr>\n",
       "    <tr>\n",
       "      <th>2</th>\n",
       "      <td>5.3</td>\n",
       "      <td>121.0</td>\n",
       "      <td>0</td>\n",
       "    </tr>\n",
       "    <tr>\n",
       "      <th>3</th>\n",
       "      <td>7.4</td>\n",
       "      <td>132.0</td>\n",
       "      <td>1</td>\n",
       "    </tr>\n",
       "    <tr>\n",
       "      <th>4</th>\n",
       "      <td>5.8</td>\n",
       "      <td>142.0</td>\n",
       "      <td>0</td>\n",
       "    </tr>\n",
       "  </tbody>\n",
       "</table>\n",
       "</div>"
      ],
      "text/plain": [
       "   cgpa     iq  placement\n",
       "0   6.8  123.0          1\n",
       "1   5.9  106.0          0\n",
       "2   5.3  121.0          0\n",
       "3   7.4  132.0          1\n",
       "4   5.8  142.0          0"
      ]
     },
     "execution_count": 11,
     "metadata": {},
     "output_type": "execute_result"
    }
   ],
   "source": [
    "df.head()"
   ]
  },
  {
   "cell_type": "code",
   "execution_count": 12,
   "id": "f7fde8e0",
   "metadata": {},
   "outputs": [],
   "source": [
    "#EDA\n",
    "import matplotlib.pyplot as plt"
   ]
  },
  {
   "cell_type": "code",
   "execution_count": 13,
   "id": "4fad68bc",
   "metadata": {},
   "outputs": [
    {
     "data": {
      "text/plain": [
       "<matplotlib.collections.PathCollection at 0x234a9120290>"
      ]
     },
     "execution_count": 13,
     "metadata": {},
     "output_type": "execute_result"
    },
    {
     "data": {
      "image/png": "[encoded data removed]",
      "text/plain": [
       "<Figure size 640x480 with 1 Axes>"
      ]
     },
     "metadata": {},
     "output_type": "display_data"
    }
   ],
   "source": [
    "plt.scatter(df['cgpa'],df['iq'],c=df['placement'])"
   ]
  },
  {
   "cell_type": "code",
   "execution_count": 14,
   "id": "547a06db",
   "metadata": {},
   "outputs": [],
   "source": [
    "#Extract input and output cols\n",
    "#cgpa and iq are independent\n",
    "#x=independent\n",
    "\n",
    "x=df.iloc[:,0:2]\n",
    "y=df.iloc[:,-1]"
   ]
  },
  {
   "cell_type": "code",
   "execution_count": 15,
   "id": "f7e88769",
   "metadata": {},
   "outputs": [
    {
     "data": {
      "text/html": [
       "<div>\n",
       "<style scoped>\n",
       "    .dataframe tbody tr th:only-of-type {\n",
       "        vertical-align: middle;\n",
       "    }\n",
       "\n",
       "    .dataframe tbody tr th {\n",
       "        vertical-align: top;\n",
       "    }\n",
       "\n",
       "    .dataframe thead th {\n",
       "        text-align: right;\n",
       "    }\n",
       "</style>\n",
       "<table border=\"1\" class=\"dataframe\">\n",
       "  <thead>\n",
       "    <tr style=\"text-align: right;\">\n",
       "      <th></th>\n",
       "      <th>cgpa</th>\n",
       "      <th>iq</th>\n",
       "    </tr>\n",
       "  </thead>\n",
       "  <tbody>\n",
       "    <tr>\n",
       "      <th>0</th>\n",
       "      <td>6.8</td>\n",
       "      <td>123.0</td>\n",
       "    </tr>\n",
       "    <tr>\n",
       "      <th>1</th>\n",
       "      <td>5.9</td>\n",
       "      <td>106.0</td>\n",
       "    </tr>\n",
       "    <tr>\n",
       "      <th>2</th>\n",
       "      <td>5.3</td>\n",
       "      <td>121.0</td>\n",
       "    </tr>\n",
       "    <tr>\n",
       "      <th>3</th>\n",
       "      <td>7.4</td>\n",
       "      <td>132.0</td>\n",
       "    </tr>\n",
       "    <tr>\n",
       "      <th>4</th>\n",
       "      <td>5.8</td>\n",
       "      <td>142.0</td>\n",
       "    </tr>\n",
       "    <tr>\n",
       "      <th>...</th>\n",
       "      <td>...</td>\n",
       "      <td>...</td>\n",
       "    </tr>\n",
       "    <tr>\n",
       "      <th>95</th>\n",
       "      <td>4.3</td>\n",
       "      <td>200.0</td>\n",
       "    </tr>\n",
       "    <tr>\n",
       "      <th>96</th>\n",
       "      <td>4.4</td>\n",
       "      <td>42.0</td>\n",
       "    </tr>\n",
       "    <tr>\n",
       "      <th>97</th>\n",
       "      <td>6.7</td>\n",
       "      <td>182.0</td>\n",
       "    </tr>\n",
       "    <tr>\n",
       "      <th>98</th>\n",
       "      <td>6.3</td>\n",
       "      <td>103.0</td>\n",
       "    </tr>\n",
       "    <tr>\n",
       "      <th>99</th>\n",
       "      <td>6.2</td>\n",
       "      <td>113.0</td>\n",
       "    </tr>\n",
       "  </tbody>\n",
       "</table>\n",
       "<p>100 rows × 2 columns</p>\n",
       "</div>"
      ],
      "text/plain": [
       "    cgpa     iq\n",
       "0    6.8  123.0\n",
       "1    5.9  106.0\n",
       "2    5.3  121.0\n",
       "3    7.4  132.0\n",
       "4    5.8  142.0\n",
       "..   ...    ...\n",
       "95   4.3  200.0\n",
       "96   4.4   42.0\n",
       "97   6.7  182.0\n",
       "98   6.3  103.0\n",
       "99   6.2  113.0\n",
       "\n",
       "[100 rows x 2 columns]"
      ]
     },
     "execution_count": 15,
     "metadata": {},
     "output_type": "execute_result"
    }
   ],
   "source": [
    "#2Dtensor/matrix\n",
    "x"
   ]
  },
  {
   "cell_type": "code",
   "execution_count": 16,
   "id": "cfa901b3",
   "metadata": {},
   "outputs": [
    {
     "data": {
      "text/plain": [
       "0     1\n",
       "1     0\n",
       "2     0\n",
       "3     1\n",
       "4     0\n",
       "     ..\n",
       "95    0\n",
       "96    0\n",
       "97    1\n",
       "98    1\n",
       "99    1\n",
       "Name: placement, Length: 100, dtype: int64"
      ]
     },
     "execution_count": 16,
     "metadata": {},
     "output_type": "execute_result"
    }
   ],
   "source": [
    "y"
   ]
  },
  {
   "cell_type": "code",
   "execution_count": 17,
   "id": "bfb20a0d",
   "metadata": {},
   "outputs": [
    {
     "data": {
      "text/plain": [
       "(100,)"
      ]
     },
     "execution_count": 17,
     "metadata": {},
     "output_type": "execute_result"
    }
   ],
   "source": [
    "#1Dtensor /vector\n",
    "y.shape"
   ]
  },
  {
   "cell_type": "code",
   "execution_count": 18,
   "id": "53a9b23d",
   "metadata": {},
   "outputs": [],
   "source": [
    "#train test split\n",
    "from sklearn.model_selection import train_test_split\n",
    "x_train,x_test,y_train,y_test=train_test_split(x,y,test_size=0.1)"
   ]
  },
  {
   "cell_type": "code",
   "execution_count": 19,
   "id": "d46229ae",
   "metadata": {},
   "outputs": [
    {
     "data": {
      "text/html": [
       "<div>\n",
       "<style scoped>\n",
       "    .dataframe tbody tr th:only-of-type {\n",
       "        vertical-align: middle;\n",
       "    }\n",
       "\n",
       "    .dataframe tbody tr th {\n",
       "        vertical-align: top;\n",
       "    }\n",
       "\n",
       "    .dataframe thead th {\n",
       "        text-align: right;\n",
       "    }\n",
       "</style>\n",
       "<table border=\"1\" class=\"dataframe\">\n",
       "  <thead>\n",
       "    <tr style=\"text-align: right;\">\n",
       "      <th></th>\n",
       "      <th>cgpa</th>\n",
       "      <th>iq</th>\n",
       "    </tr>\n",
       "  </thead>\n",
       "  <tbody>\n",
       "    <tr>\n",
       "      <th>5</th>\n",
       "      <td>7.1</td>\n",
       "      <td>48.0</td>\n",
       "    </tr>\n",
       "    <tr>\n",
       "      <th>68</th>\n",
       "      <td>4.0</td>\n",
       "      <td>75.0</td>\n",
       "    </tr>\n",
       "    <tr>\n",
       "      <th>33</th>\n",
       "      <td>6.0</td>\n",
       "      <td>149.0</td>\n",
       "    </tr>\n",
       "    <tr>\n",
       "      <th>41</th>\n",
       "      <td>5.4</td>\n",
       "      <td>114.0</td>\n",
       "    </tr>\n",
       "    <tr>\n",
       "      <th>73</th>\n",
       "      <td>4.9</td>\n",
       "      <td>61.0</td>\n",
       "    </tr>\n",
       "    <tr>\n",
       "      <th>...</th>\n",
       "      <td>...</td>\n",
       "      <td>...</td>\n",
       "    </tr>\n",
       "    <tr>\n",
       "      <th>2</th>\n",
       "      <td>5.3</td>\n",
       "      <td>121.0</td>\n",
       "    </tr>\n",
       "    <tr>\n",
       "      <th>92</th>\n",
       "      <td>5.2</td>\n",
       "      <td>110.0</td>\n",
       "    </tr>\n",
       "    <tr>\n",
       "      <th>65</th>\n",
       "      <td>8.1</td>\n",
       "      <td>166.0</td>\n",
       "    </tr>\n",
       "    <tr>\n",
       "      <th>96</th>\n",
       "      <td>4.4</td>\n",
       "      <td>42.0</td>\n",
       "    </tr>\n",
       "    <tr>\n",
       "      <th>84</th>\n",
       "      <td>5.7</td>\n",
       "      <td>169.0</td>\n",
       "    </tr>\n",
       "  </tbody>\n",
       "</table>\n",
       "<p>90 rows × 2 columns</p>\n",
       "</div>"
      ],
      "text/plain": [
       "    cgpa     iq\n",
       "5    7.1   48.0\n",
       "68   4.0   75.0\n",
       "33   6.0  149.0\n",
       "41   5.4  114.0\n",
       "73   4.9   61.0\n",
       "..   ...    ...\n",
       "2    5.3  121.0\n",
       "92   5.2  110.0\n",
       "65   8.1  166.0\n",
       "96   4.4   42.0\n",
       "84   5.7  169.0\n",
       "\n",
       "[90 rows x 2 columns]"
      ]
     },
     "execution_count": 19,
     "metadata": {},
     "output_type": "execute_result"
    }
   ],
   "source": [
    "x_train"
   ]
  },
  {
   "cell_type": "code",
   "execution_count": 20,
   "id": "3f36ff35",
   "metadata": {},
   "outputs": [
    {
     "data": {
      "text/plain": [
       "5     1\n",
       "68    0\n",
       "33    0\n",
       "41    0\n",
       "73    0\n",
       "     ..\n",
       "2     0\n",
       "92    0\n",
       "65    1\n",
       "96    0\n",
       "84    0\n",
       "Name: placement, Length: 90, dtype: int64"
      ]
     },
     "execution_count": 20,
     "metadata": {},
     "output_type": "execute_result"
    }
   ],
   "source": [
    "y_train"
   ]
  },
  {
   "cell_type": "code",
   "execution_count": 21,
   "id": "2f07401b",
   "metadata": {},
   "outputs": [
    {
     "data": {
      "text/html": [
       "<div>\n",
       "<style scoped>\n",
       "    .dataframe tbody tr th:only-of-type {\n",
       "        vertical-align: middle;\n",
       "    }\n",
       "\n",
       "    .dataframe tbody tr th {\n",
       "        vertical-align: top;\n",
       "    }\n",
       "\n",
       "    .dataframe thead th {\n",
       "        text-align: right;\n",
       "    }\n",
       "</style>\n",
       "<table border=\"1\" class=\"dataframe\">\n",
       "  <thead>\n",
       "    <tr style=\"text-align: right;\">\n",
       "      <th></th>\n",
       "      <th>cgpa</th>\n",
       "      <th>iq</th>\n",
       "    </tr>\n",
       "  </thead>\n",
       "  <tbody>\n",
       "    <tr>\n",
       "      <th>93</th>\n",
       "      <td>6.8</td>\n",
       "      <td>112.0</td>\n",
       "    </tr>\n",
       "    <tr>\n",
       "      <th>27</th>\n",
       "      <td>6.0</td>\n",
       "      <td>124.0</td>\n",
       "    </tr>\n",
       "    <tr>\n",
       "      <th>32</th>\n",
       "      <td>7.0</td>\n",
       "      <td>139.0</td>\n",
       "    </tr>\n",
       "    <tr>\n",
       "      <th>35</th>\n",
       "      <td>6.8</td>\n",
       "      <td>90.0</td>\n",
       "    </tr>\n",
       "    <tr>\n",
       "      <th>75</th>\n",
       "      <td>4.8</td>\n",
       "      <td>169.0</td>\n",
       "    </tr>\n",
       "    <tr>\n",
       "      <th>48</th>\n",
       "      <td>6.6</td>\n",
       "      <td>138.0</td>\n",
       "    </tr>\n",
       "    <tr>\n",
       "      <th>19</th>\n",
       "      <td>5.2</td>\n",
       "      <td>132.0</td>\n",
       "    </tr>\n",
       "    <tr>\n",
       "      <th>50</th>\n",
       "      <td>3.5</td>\n",
       "      <td>233.0</td>\n",
       "    </tr>\n",
       "    <tr>\n",
       "      <th>53</th>\n",
       "      <td>8.3</td>\n",
       "      <td>168.0</td>\n",
       "    </tr>\n",
       "    <tr>\n",
       "      <th>57</th>\n",
       "      <td>6.5</td>\n",
       "      <td>130.0</td>\n",
       "    </tr>\n",
       "  </tbody>\n",
       "</table>\n",
       "</div>"
      ],
      "text/plain": [
       "    cgpa     iq\n",
       "93   6.8  112.0\n",
       "27   6.0  124.0\n",
       "32   7.0  139.0\n",
       "35   6.8   90.0\n",
       "75   4.8  169.0\n",
       "48   6.6  138.0\n",
       "19   5.2  132.0\n",
       "50   3.5  233.0\n",
       "53   8.3  168.0\n",
       "57   6.5  130.0"
      ]
     },
     "execution_count": 21,
     "metadata": {},
     "output_type": "execute_result"
    }
   ],
   "source": [
    "x_test"
   ]
  },
  {
   "cell_type": "code",
   "execution_count": 22,
   "id": "100e1f09",
   "metadata": {},
   "outputs": [],
   "source": [
    "#scale the values(-1to1)\n",
    "\n",
    "from sklearn.preprocessing import StandardScaler"
   ]
  },
  {
   "cell_type": "code",
   "execution_count": 23,
   "id": "a871aff1",
   "metadata": {},
   "outputs": [],
   "source": [
    "scaler = StandardScaler()"
   ]
  },
  {
   "cell_type": "code",
   "execution_count": 24,
   "id": "3e0aa301",
   "metadata": {},
   "outputs": [],
   "source": [
    "x_train =scaler.fit_transform(x_train)"
   ]
  },
  {
   "cell_type": "code",
   "execution_count": 25,
   "id": "993f74ea",
   "metadata": {},
   "outputs": [
    {
     "data": {
      "text/plain": [
       "array([[ 1.00586329, -1.86225476],\n",
       "       [-1.76174872, -1.17691794],\n",
       "       [ 0.02380742,  0.70141263],\n",
       "       [-0.51185942, -0.18698696],\n",
       "       [-0.95824846, -1.53227777],\n",
       "       [ 1.27369671,  0.26990426],\n",
       "       [ 0.91658548, -0.23775265],\n",
       "       [-0.95824846,  0.8537097 ],\n",
       "       [-1.4939153 ,  1.99593775],\n",
       "       [-1.13680407, -1.76072338],\n",
       "       [-0.86897065, -1.48151208],\n",
       "       [-1.04752626,  0.49834987],\n",
       "       [ 0.47019645, -2.14146606],\n",
       "       [-0.06547039, -0.39004973],\n",
       "       [-0.77969284,  0.16837288],\n",
       "       [ 1.45225232, -0.8215581 ],\n",
       "       [-0.1547482 ,  1.132921  ],\n",
       "       [ 1.45225232,  0.16837288],\n",
       "       [ 0.29164084,  0.16837288],\n",
       "       [-0.86897065, -0.08545558],\n",
       "       [ 0.11308522,  0.26990426],\n",
       "       [ 1.36297452,  0.21913857],\n",
       "       [ 0.82730768, -0.64387818],\n",
       "       [ 1.1844189 ,  0.39681848],\n",
       "       [-1.13680407, -0.87232379],\n",
       "       [ 0.11308522, -1.02462086],\n",
       "       [-0.51185942,  0.34605279],\n",
       "       [-1.13680407, -0.00930704],\n",
       "       [ 0.47019645, -0.79617525],\n",
       "       [ 0.02380742, -1.9384033 ],\n",
       "       [-1.04752626,  1.05677247],\n",
       "       [ 0.73802987,  0.49834987],\n",
       "       [ 0.64875206,  0.82832686],\n",
       "       [ 1.1844189 , -0.13622127],\n",
       "       [-1.40463749,  0.70141263],\n",
       "       [ 0.11308522, -0.46619826],\n",
       "       [ 1.89864136,  0.70141263],\n",
       "       [ 0.55947426, -0.03468989],\n",
       "       [ 0.82730768,  0.42220133],\n",
       "       [-0.60113723, -0.18698696],\n",
       "       [ 0.73802987,  0.04145865],\n",
       "       [ 1.36297452, -1.53227777],\n",
       "       [ 0.91658548,  1.9705549 ],\n",
       "       [ 0.20236303, -0.21236981],\n",
       "       [-0.95824846, -0.03468989],\n",
       "       [-2.38669336,  1.56442938],\n",
       "       [-0.244026  ,  0.54911556],\n",
       "       [ 0.29164084,  0.14299003],\n",
       "       [-0.69041504, -0.79617525],\n",
       "       [-0.69041504,  1.00600678],\n",
       "       [-1.76174872, -0.5423468 ],\n",
       "       [-0.95824846,  0.32066995],\n",
       "       [ 0.11308522,  0.87909255],\n",
       "       [ 0.82730768,  0.44758418],\n",
       "       [ 0.64875206,  1.53904653],\n",
       "       [-0.69041504,  2.60512604],\n",
       "       [-0.95824846,  1.89440637],\n",
       "       [ 0.91658548,  1.36136661],\n",
       "       [-0.244026  ,  0.26990426],\n",
       "       [-0.77969284, -1.40536354],\n",
       "       [ 0.02380742, -1.40536354],\n",
       "       [-0.244026  ,  0.47296702],\n",
       "       [-0.95824846,  0.75217832],\n",
       "       [-0.51185942,  0.44758418],\n",
       "       [ 2.25575258, -0.03468989],\n",
       "       [ 0.38091864, -0.13622127],\n",
       "       [ 1.36297452,  0.92985824],\n",
       "       [-1.04752626, -0.23775265],\n",
       "       [ 0.02380742, -0.49158111],\n",
       "       [ 0.91658548, -1.45612924],\n",
       "       [ 1.80936355, -1.07538655],\n",
       "       [ 0.11308522, -1.43074639],\n",
       "       [-1.85102652, -0.31390119],\n",
       "       [ 0.38091864,  0.49834987],\n",
       "       [-0.86897065, -0.77079241],\n",
       "       [ 0.29164084, -0.46619826],\n",
       "       [-0.1547482 ,  0.52373271],\n",
       "       [-0.51185942, -0.36466688],\n",
       "       [ 1.1844189 , -1.81148907],\n",
       "       [ 1.00586329,  0.75217832],\n",
       "       [ 0.47019645,  0.98062393],\n",
       "       [-1.22608188,  0.62526409],\n",
       "       [ 1.1844189 , -0.89770664],\n",
       "       [ 1.63080794, -0.18698696],\n",
       "       [-0.77969284,  1.38674946],\n",
       "       [-0.60113723, -0.00930704],\n",
       "       [-0.69041504, -0.28851834],\n",
       "       [ 1.89864136,  1.132921  ],\n",
       "       [-1.40463749, -2.01455184],\n",
       "       [-0.244026  ,  1.20906954]])"
      ]
     },
     "execution_count": 25,
     "metadata": {},
     "output_type": "execute_result"
    }
   ],
   "source": [
    "x_train"
   ]
  },
  {
   "cell_type": "code",
   "execution_count": 26,
   "id": "4d8fbbfa",
   "metadata": {},
   "outputs": [],
   "source": [
    "x_test = scaler.fit_transform(x_test)"
   ]
  },
  {
   "cell_type": "code",
   "execution_count": 27,
   "id": "4084776a",
   "metadata": {},
   "outputs": [
    {
     "data": {
      "text/plain": [
       "array([[ 0.50935371, -0.84609885],\n",
       "       [-0.11754316, -0.52377548],\n",
       "       [ 0.66607793, -0.12087126],\n",
       "       [ 0.50935371, -1.43702503],\n",
       "       [-1.05788848,  0.68493716],\n",
       "       [ 0.35262949, -0.14773155],\n",
       "       [-0.74444004, -0.30889323],\n",
       "       [-2.0765959 ,  2.40399515],\n",
       "       [ 1.68478535,  0.65807688],\n",
       "       [ 0.27426738, -0.36261379]])"
      ]
     },
     "execution_count": 27,
     "metadata": {},
     "output_type": "execute_result"
    }
   ],
   "source": [
    "x_test"
   ]
  },
  {
   "cell_type": "code",
   "execution_count": 28,
   "id": "3803512c",
   "metadata": {},
   "outputs": [],
   "source": [
    "from sklearn.linear_model import LogisticRegression"
   ]
  },
  {
   "cell_type": "code",
   "execution_count": 29,
   "id": "744acf26",
   "metadata": {},
   "outputs": [],
   "source": [
    "clf=LogisticRegression()"
   ]
  },
  {
   "cell_type": "code",
   "execution_count": 30,
   "id": "c0d05158",
   "metadata": {},
   "outputs": [
    {
     "data": {
      "text/html": [
       "<style>#sk-container-id-1 {color: black;}#sk-container-id-1 pre{padding: 0;}#sk-container-id-1 div.sk-toggleable {background-color: white;}#sk-container-id-1 label.sk-toggleable__label {cursor: pointer;display: block;width: 100%;margin-bottom: 0;padding: 0.3em;box-sizing: border-box;text-align: center;}#sk-container-id-1 label.sk-toggleable__label-arrow:before {content: \"▸\";float: left;margin-right: 0.25em;color: #696969;}#sk-container-id-1 label.sk-toggleable__label-arrow:hover:before {color: black;}#sk-container-id-1 div.sk-estimator:hover label.sk-toggleable__label-arrow:before {color: black;}#sk-container-id-1 div.sk-toggleable__content {max-height: 0;max-width: 0;overflow: hidden;text-align: left;background-color: #f0f8ff;}#sk-container-id-1 div.sk-toggleable__content pre {margin: 0.2em;color: black;border-radius: 0.25em;background-color: #f0f8ff;}#sk-container-id-1 input.sk-toggleable__control:checked~div.sk-toggleable__content {max-height: 200px;max-width: 100%;overflow: auto;}#sk-container-id-1 input.sk-toggleable__control:checked~label.sk-toggleable__label-arrow:before {content: \"▾\";}#sk-container-id-1 div.sk-estimator input.sk-toggleable__control:checked~label.sk-toggleable__label {background-color: #d4ebff;}#sk-container-id-1 div.sk-label input.sk-toggleable__control:checked~label.sk-toggleable__label {background-color: #d4ebff;}#sk-container-id-1 input.sk-hidden--visually {border: 0;clip: rect(1px 1px 1px 1px);clip: rect(1px, 1px, 1px, 1px);height: 1px;margin: -1px;overflow: hidden;padding: 0;position: absolute;width: 1px;}#sk-container-id-1 div.sk-estimator {font-family: monospace;background-color: #f0f8ff;border: 1px dotted black;border-radius: 0.25em;box-sizing: border-box;margin-bottom: 0.5em;}#sk-container-id-1 div.sk-estimator:hover {background-color: #d4ebff;}#sk-container-id-1 div.sk-parallel-item::after {content: \"\";width: 100%;border-bottom: 1px solid gray;flex-grow: 1;}#sk-container-id-1 div.sk-label:hover label.sk-toggleable__label {background-color: #d4ebff;}#sk-container-id-1 div.sk-serial::before {content: \"\";position: absolute;border-left: 1px solid gray;box-sizing: border-box;top: 0;bottom: 0;left: 50%;z-index: 0;}#sk-container-id-1 div.sk-serial {display: flex;flex-direction: column;align-items: center;background-color: white;padding-right: 0.2em;padding-left: 0.2em;position: relative;}#sk-container-id-1 div.sk-item {position: relative;z-index: 1;}#sk-container-id-1 div.sk-parallel {display: flex;align-items: stretch;justify-content: center;background-color: white;position: relative;}#sk-container-id-1 div.sk-item::before, #sk-container-id-1 div.sk-parallel-item::before {content: \"\";position: absolute;border-left: 1px solid gray;box-sizing: border-box;top: 0;bottom: 0;left: 50%;z-index: -1;}#sk-container-id-1 div.sk-parallel-item {display: flex;flex-direction: column;z-index: 1;position: relative;background-color: white;}#sk-container-id-1 div.sk-parallel-item:first-child::after {align-self: flex-end;width: 50%;}#sk-container-id-1 div.sk-parallel-item:last-child::after {align-self: flex-start;width: 50%;}#sk-container-id-1 div.sk-parallel-item:only-child::after {width: 0;}#sk-container-id-1 div.sk-dashed-wrapped {border: 1px dashed gray;margin: 0 0.4em 0.5em 0.4em;box-sizing: border-box;padding-bottom: 0.4em;background-color: white;}#sk-container-id-1 div.sk-label label {font-family: monospace;font-weight: bold;display: inline-block;line-height: 1.2em;}#sk-container-id-1 div.sk-label-container {text-align: center;}#sk-container-id-1 div.sk-container {/* jupyter's `normalize.less` sets `[hidden] { display: none; }` but bootstrap.min.css set `[hidden] { display: none !important; }` so we also need the `!important` here to be able to override the default hidden behavior on the sphinx rendered scikit-learn.org. See: https://github.com/scikit-learn/scikit-learn/issues/21755 */display: inline-block !important;position: relative;}#sk-container-id-1 div.sk-text-repr-fallback {display: none;}</style><div id=\"sk-container-id-1\" class=\"sk-top-container\"><div class=\"sk-text-repr-fallback\"><pre>LogisticRegression()</pre><b>In a Jupyter environment, please rerun this cell to show the HTML representation or trust the notebook. <br />On GitHub, the HTML representation is unable to render, please try loading this page with nbviewer.org.</b></div><div class=\"sk-container\" hidden><div class=\"sk-item\"><div class=\"sk-estimator sk-toggleable\"><input class=\"sk-toggleable__control sk-hidden--visually\" id=\"sk-estimator-id-1\" type=\"checkbox\" checked><label for=\"sk-estimator-id-1\" class=\"sk-toggleable__label sk-toggleable__label-arrow\">LogisticRegression</label><div class=\"sk-toggleable__content\"><pre>LogisticRegression()</pre></div></div></div></div></div>"
      ],
      "text/plain": [
       "LogisticRegression()"
      ]
     },
     "execution_count": 30,
     "metadata": {},
     "output_type": "execute_result"
    }
   ],
   "source": [
    "#model training\n",
    "clf.fit(x_train,y_train)"
   ]
  },
  {
   "cell_type": "code",
   "execution_count": 31,
   "id": "96370219",
   "metadata": {},
   "outputs": [],
   "source": [
    "#:Evaluate the model/model selection\n",
    "y_pred=clf.predict(x_test)"
   ]
  },
  {
   "cell_type": "code",
   "execution_count": 32,
   "id": "3f2b6dad",
   "metadata": {},
   "outputs": [
    {
     "data": {
      "text/plain": [
       "93    1\n",
       "27    1\n",
       "32    1\n",
       "35    1\n",
       "75    0\n",
       "48    1\n",
       "19    0\n",
       "50    0\n",
       "53    1\n",
       "57    1\n",
       "Name: placement, dtype: int64"
      ]
     },
     "execution_count": 32,
     "metadata": {},
     "output_type": "execute_result"
    }
   ],
   "source": [
    "y_test"
   ]
  },
  {
   "cell_type": "code",
   "execution_count": 33,
   "id": "2745a068",
   "metadata": {},
   "outputs": [],
   "source": [
    "from sklearn.metrics import accuracy_score"
   ]
  },
  {
   "cell_type": "code",
   "execution_count": 34,
   "id": "332d1855",
   "metadata": {},
   "outputs": [
    {
     "data": {
      "text/plain": [
       "0.9"
      ]
     },
     "execution_count": 34,
     "metadata": {},
     "output_type": "execute_result"
    }
   ],
   "source": [
    "accuracy_score(y_test,y_pred)"
   ]
  },
  {
   "cell_type": "code",
   "execution_count": 35,
   "id": "440fbbf5",
   "metadata": {},
   "outputs": [],
   "source": [
    "from mlxtend.plotting import plot_decision_regions"
   ]
  },
  {
   "cell_type": "code",
   "execution_count": 36,
   "id": "cd3fd635",
   "metadata": {},
   "outputs": [
    {
     "data": {
      "text/plain": [
       "<Axes: >"
      ]
     },
     "execution_count": 36,
     "metadata": {},
     "output_type": "execute_result"
    },
    {
     "data": {
      "image/png": "[encoded data removed]",
      "text/plain": [
       "<Figure size 640x480 with 1 Axes>"
      ]
     },
     "metadata": {},
     "output_type": "display_data"
    }
   ],
   "source": [
    "plot_decision_regions(x_train,y_train.values,clf=clf,legend=2)"
   ]
  },
  {
   "cell_type": "code",
   "execution_count": 37,
   "id": "e0bbb840",
   "metadata": {},
   "outputs": [],
   "source": [
    "#(obj convert to file)\n",
    "import pickle"
   ]
  },
  {
   "cell_type": "code",
   "execution_count": 39,
   "id": "f10ff0cf",
   "metadata": {},
   "outputs": [],
   "source": [
    "pickle.dump(clf,open('model.pkl','wb'))"
   ]
  },
  {
   "cell_type": "code",
   "execution_count": null,
   "id": "16d24a90",
   "metadata": {},
   "outputs": [],
   "source": []
  }
 ],
 "metadata": {
  "kernelspec": {
   "display_name": "Python 3 (ipykernel)",
   "language": "python",
   "name": "python3"
  },
  "language_info": {
   "codemirror_mode": {
    "name": "ipython",
    "version": 3
   },
   "file_extension": ".py",
   "mimetype": "text/x-python",
   "name": "python",
   "nbconvert_exporter": "python",
   "pygments_lexer": "ipython3",
   "version": "3.11.5"
  }
 },
 "nbformat": 4,
 "nbformat_minor": 5
}
